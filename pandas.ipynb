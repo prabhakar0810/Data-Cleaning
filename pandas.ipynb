{
 "cells": [
  {
   "cell_type": "code",
   "execution_count": 3,
   "id": "48d6563d-d73e-44d3-bf0f-3d6fd3f533a8",
   "metadata": {},
   "outputs": [],
   "source": [
    "import numpy as np\n",
    "import pandas as pd"
   ]
  },
  {
   "cell_type": "code",
   "execution_count": 4,
   "id": "9c74c0da-069b-46ea-a687-bfebdd00e204",
   "metadata": {},
   "outputs": [
    {
     "data": {
      "text/plain": [
       "a    1\n",
       "b    2\n",
       "c    3\n",
       "d    4\n",
       "e    5\n",
       "dtype: int64"
      ]
     },
     "execution_count": 4,
     "metadata": {},
     "output_type": "execute_result"
    }
   ],
   "source": [
    "lis=[1,2,3,4,5]\n",
    "ser=pd.Series(lis,index=[\"a\",\"b\",\"c\",\"d\",\"e\"])\n",
    "ser"
   ]
  },
  {
   "cell_type": "code",
   "execution_count": 9,
   "id": "19a0cd2a-a44a-48a1-aa4f-9a3e448d48f6",
   "metadata": {},
   "outputs": [
    {
     "data": {
      "text/plain": [
       "1"
      ]
     },
     "execution_count": 9,
     "metadata": {},
     "output_type": "execute_result"
    }
   ],
   "source": [
    "ser.ndim"
   ]
  },
  {
   "cell_type": "code",
   "execution_count": 11,
   "id": "8ab36918-d7fc-4f87-bca5-41ba8ebfce4f",
   "metadata": {},
   "outputs": [
    {
     "data": {
      "text/html": [
       "<div>\n",
       "<style scoped>\n",
       "    .dataframe tbody tr th:only-of-type {\n",
       "        vertical-align: middle;\n",
       "    }\n",
       "\n",
       "    .dataframe tbody tr th {\n",
       "        vertical-align: top;\n",
       "    }\n",
       "\n",
       "    .dataframe thead th {\n",
       "        text-align: right;\n",
       "    }\n",
       "</style>\n",
       "<table border=\"1\" class=\"dataframe\">\n",
       "  <thead>\n",
       "    <tr style=\"text-align: right;\">\n",
       "      <th></th>\n",
       "      <th>0</th>\n",
       "      <th>1</th>\n",
       "      <th>2</th>\n",
       "      <th>3</th>\n",
       "      <th>4</th>\n",
       "    </tr>\n",
       "  </thead>\n",
       "  <tbody>\n",
       "    <tr>\n",
       "      <th>a</th>\n",
       "      <td>1</td>\n",
       "      <td>2</td>\n",
       "      <td>3</td>\n",
       "      <td>4</td>\n",
       "      <td>5</td>\n",
       "    </tr>\n",
       "    <tr>\n",
       "      <th>b</th>\n",
       "      <td>6</td>\n",
       "      <td>7</td>\n",
       "      <td>8</td>\n",
       "      <td>9</td>\n",
       "      <td>0</td>\n",
       "    </tr>\n",
       "  </tbody>\n",
       "</table>\n",
       "</div>"
      ],
      "text/plain": [
       "   0  1  2  3  4\n",
       "a  1  2  3  4  5\n",
       "b  6  7  8  9  0"
      ]
     },
     "execution_count": 11,
     "metadata": {},
     "output_type": "execute_result"
    }
   ],
   "source": [
    "ser3=pd.Series([1,2,3,4,5])\n",
    "ser4=pd.Series([6,7,8,9,0])\n",
    "dataFrame=pd.DataFrame(data=[ser3,ser4],index=[\"a\",\"b\"])\n",
    "dataFrame"
   ]
  },
  {
   "cell_type": "code",
   "execution_count": 13,
   "id": "e629fa11-4ceb-4106-94ea-b7f1a9ce5925",
   "metadata": {},
   "outputs": [
    {
     "data": {
      "text/html": [
       "<div>\n",
       "<style scoped>\n",
       "    .dataframe tbody tr th:only-of-type {\n",
       "        vertical-align: middle;\n",
       "    }\n",
       "\n",
       "    .dataframe tbody tr th {\n",
       "        vertical-align: top;\n",
       "    }\n",
       "\n",
       "    .dataframe thead th {\n",
       "        text-align: right;\n",
       "    }\n",
       "</style>\n",
       "<table border=\"1\" class=\"dataframe\">\n",
       "  <thead>\n",
       "    <tr style=\"text-align: right;\">\n",
       "      <th></th>\n",
       "      <th>name</th>\n",
       "      <th>age</th>\n",
       "      <th>class</th>\n",
       "    </tr>\n",
       "  </thead>\n",
       "  <tbody>\n",
       "    <tr>\n",
       "      <th>0</th>\n",
       "      <td>a</td>\n",
       "      <td>23</td>\n",
       "      <td>A</td>\n",
       "    </tr>\n",
       "    <tr>\n",
       "      <th>1</th>\n",
       "      <td>b</td>\n",
       "      <td>34</td>\n",
       "      <td>B</td>\n",
       "    </tr>\n",
       "    <tr>\n",
       "      <th>2</th>\n",
       "      <td>c</td>\n",
       "      <td>56</td>\n",
       "      <td>C</td>\n",
       "    </tr>\n",
       "    <tr>\n",
       "      <th>3</th>\n",
       "      <td>d</td>\n",
       "      <td>23</td>\n",
       "      <td>D</td>\n",
       "    </tr>\n",
       "  </tbody>\n",
       "</table>\n",
       "</div>"
      ],
      "text/plain": [
       "  name  age class\n",
       "0    a   23     A\n",
       "1    b   34     B\n",
       "2    c   56     C\n",
       "3    d   23     D"
      ]
     },
     "execution_count": 13,
     "metadata": {},
     "output_type": "execute_result"
    }
   ],
   "source": [
    "dic2={\"name\":[\"a\",\"b\",\"c\",\"d\"],\"age\":[23,34,56,23],\"class\":[\"A\",\"B\",\"C\",\"D\"]}\n",
    "dataFrame3=pd.DataFrame(dic2)\n",
    "dataFrame3"
   ]
  },
  {
   "cell_type": "code",
   "execution_count": 15,
   "id": "682d895d-7ad3-4eee-8846-2aeb98430092",
   "metadata": {},
   "outputs": [],
   "source": [
    "# to read a file\n",
    "#.to_csv(\"filename\")"
   ]
  },
  {
   "cell_type": "code",
   "execution_count": 17,
   "id": "22c98ee6-3e27-429c-940f-21f7317b0a5d",
   "metadata": {},
   "outputs": [
    {
     "data": {
      "text/html": [
       "<div>\n",
       "<style scoped>\n",
       "    .dataframe tbody tr th:only-of-type {\n",
       "        vertical-align: middle;\n",
       "    }\n",
       "\n",
       "    .dataframe tbody tr th {\n",
       "        vertical-align: top;\n",
       "    }\n",
       "\n",
       "    .dataframe thead th {\n",
       "        text-align: right;\n",
       "    }\n",
       "</style>\n",
       "<table border=\"1\" class=\"dataframe\">\n",
       "  <thead>\n",
       "    <tr style=\"text-align: right;\">\n",
       "      <th></th>\n",
       "      <th>rank</th>\n",
       "      <th>name</th>\n",
       "      <th>matches</th>\n",
       "      <th>innings</th>\n",
       "      <th>runs</th>\n",
       "      <th>highest</th>\n",
       "      <th>100s</th>\n",
       "      <th>50s</th>\n",
       "    </tr>\n",
       "  </thead>\n",
       "  <tbody>\n",
       "    <tr>\n",
       "      <th>0</th>\n",
       "      <td>1</td>\n",
       "      <td>V Kohli</td>\n",
       "      <td>207</td>\n",
       "      <td>199</td>\n",
       "      <td>6283</td>\n",
       "      <td>113</td>\n",
       "      <td>5</td>\n",
       "      <td>42</td>\n",
       "    </tr>\n",
       "    <tr>\n",
       "      <th>1</th>\n",
       "      <td>2</td>\n",
       "      <td>S Dhawan</td>\n",
       "      <td>194</td>\n",
       "      <td>191</td>\n",
       "      <td>5784</td>\n",
       "      <td>106</td>\n",
       "      <td>2</td>\n",
       "      <td>44</td>\n",
       "    </tr>\n",
       "    <tr>\n",
       "      <th>2</th>\n",
       "      <td>3</td>\n",
       "      <td>Rohit Sharma</td>\n",
       "      <td>213</td>\n",
       "      <td>208</td>\n",
       "      <td>5611</td>\n",
       "      <td>109</td>\n",
       "      <td>1</td>\n",
       "      <td>40</td>\n",
       "    </tr>\n",
       "    <tr>\n",
       "      <th>3</th>\n",
       "      <td>4</td>\n",
       "      <td>Suresh Raina</td>\n",
       "      <td>205</td>\n",
       "      <td>200</td>\n",
       "      <td>5528</td>\n",
       "      <td>100</td>\n",
       "      <td>1</td>\n",
       "      <td>39</td>\n",
       "    </tr>\n",
       "    <tr>\n",
       "      <th>4</th>\n",
       "      <td>5</td>\n",
       "      <td>David Warner</td>\n",
       "      <td>150</td>\n",
       "      <td>150</td>\n",
       "      <td>5449</td>\n",
       "      <td>126</td>\n",
       "      <td>4</td>\n",
       "      <td>50</td>\n",
       "    </tr>\n",
       "  </tbody>\n",
       "</table>\n",
       "</div>"
      ],
      "text/plain": [
       "   rank          name  matches  innings  runs  highest  100s  50s\n",
       "0     1       V Kohli      207      199  6283      113     5   42\n",
       "1     2      S Dhawan      194      191  5784      106     2   44\n",
       "2     3  Rohit Sharma      213      208  5611      109     1   40\n",
       "3     4  Suresh Raina      205      200  5528      100     1   39\n",
       "4     5  David Warner      150      150  5449      126     4   50"
      ]
     },
     "execution_count": 17,
     "metadata": {},
     "output_type": "execute_result"
    }
   ],
   "source": [
    "df=pd.read_csv(\"player.csv\")\n",
    "df.head()"
   ]
  },
  {
   "cell_type": "code",
   "execution_count": 19,
   "id": "3e888983-c809-4c4f-967c-ab91d4c1e4df",
   "metadata": {},
   "outputs": [
    {
     "data": {
      "text/plain": [
       "<bound method DataFrame.info of    rank             name  matches  innings  runs  highest  100s  50s\n",
       "0     1          V Kohli      207      199  6283      113     5   42\n",
       "1     2         S Dhawan      194      191  5784      106     2   44\n",
       "2     3     Rohit Sharma      213      208  5611      109     1   40\n",
       "3     4     Suresh Raina      205      200  5528      100     1   39\n",
       "4     5     David Warner      150      150  5449      126     4   50\n",
       "5     6  A B de Villiers      184      170  5162      133     3   40\n",
       "6     7      Chris Gayle      142      141  4965      175     6   31\n",
       "7     8        M S Dhoni      220      193  4746       84     0   23\n",
       "8     9    Robin Uthappa      193      186  4722       87     0   25\n",
       "9    10    Gutam Gambhir      154      152  4217       93     0   36>"
      ]
     },
     "execution_count": 19,
     "metadata": {},
     "output_type": "execute_result"
    }
   ],
   "source": [
    "df.info"
   ]
  },
  {
   "cell_type": "code",
   "execution_count": 21,
   "id": "bd783f6f-153a-44ad-b043-600d22d1ef8c",
   "metadata": {},
   "outputs": [
    {
     "data": {
      "text/html": [
       "<div>\n",
       "<style scoped>\n",
       "    .dataframe tbody tr th:only-of-type {\n",
       "        vertical-align: middle;\n",
       "    }\n",
       "\n",
       "    .dataframe tbody tr th {\n",
       "        vertical-align: top;\n",
       "    }\n",
       "\n",
       "    .dataframe thead th {\n",
       "        text-align: right;\n",
       "    }\n",
       "</style>\n",
       "<table border=\"1\" class=\"dataframe\">\n",
       "  <thead>\n",
       "    <tr style=\"text-align: right;\">\n",
       "      <th></th>\n",
       "      <th>rank</th>\n",
       "      <th>matches</th>\n",
       "      <th>innings</th>\n",
       "      <th>runs</th>\n",
       "      <th>highest</th>\n",
       "      <th>100s</th>\n",
       "      <th>50s</th>\n",
       "    </tr>\n",
       "  </thead>\n",
       "  <tbody>\n",
       "    <tr>\n",
       "      <th>count</th>\n",
       "      <td>10.00000</td>\n",
       "      <td>10.000000</td>\n",
       "      <td>10.000000</td>\n",
       "      <td>10.000000</td>\n",
       "      <td>10.000000</td>\n",
       "      <td>10.00000</td>\n",
       "      <td>10.000000</td>\n",
       "    </tr>\n",
       "    <tr>\n",
       "      <th>mean</th>\n",
       "      <td>5.50000</td>\n",
       "      <td>186.200000</td>\n",
       "      <td>179.000000</td>\n",
       "      <td>5246.700000</td>\n",
       "      <td>112.600000</td>\n",
       "      <td>2.20000</td>\n",
       "      <td>37.000000</td>\n",
       "    </tr>\n",
       "    <tr>\n",
       "      <th>std</th>\n",
       "      <td>3.02765</td>\n",
       "      <td>28.007142</td>\n",
       "      <td>23.958297</td>\n",
       "      <td>604.446496</td>\n",
       "      <td>27.002881</td>\n",
       "      <td>2.20101</td>\n",
       "      <td>8.445906</td>\n",
       "    </tr>\n",
       "    <tr>\n",
       "      <th>min</th>\n",
       "      <td>1.00000</td>\n",
       "      <td>142.000000</td>\n",
       "      <td>141.000000</td>\n",
       "      <td>4217.000000</td>\n",
       "      <td>84.000000</td>\n",
       "      <td>0.00000</td>\n",
       "      <td>23.000000</td>\n",
       "    </tr>\n",
       "    <tr>\n",
       "      <th>25%</th>\n",
       "      <td>3.25000</td>\n",
       "      <td>161.500000</td>\n",
       "      <td>156.500000</td>\n",
       "      <td>4800.750000</td>\n",
       "      <td>94.750000</td>\n",
       "      <td>0.25000</td>\n",
       "      <td>32.250000</td>\n",
       "    </tr>\n",
       "    <tr>\n",
       "      <th>50%</th>\n",
       "      <td>5.50000</td>\n",
       "      <td>193.500000</td>\n",
       "      <td>188.500000</td>\n",
       "      <td>5305.500000</td>\n",
       "      <td>107.500000</td>\n",
       "      <td>1.50000</td>\n",
       "      <td>39.500000</td>\n",
       "    </tr>\n",
       "    <tr>\n",
       "      <th>75%</th>\n",
       "      <td>7.75000</td>\n",
       "      <td>206.500000</td>\n",
       "      <td>197.500000</td>\n",
       "      <td>5590.250000</td>\n",
       "      <td>122.750000</td>\n",
       "      <td>3.75000</td>\n",
       "      <td>41.500000</td>\n",
       "    </tr>\n",
       "    <tr>\n",
       "      <th>max</th>\n",
       "      <td>10.00000</td>\n",
       "      <td>220.000000</td>\n",
       "      <td>208.000000</td>\n",
       "      <td>6283.000000</td>\n",
       "      <td>175.000000</td>\n",
       "      <td>6.00000</td>\n",
       "      <td>50.000000</td>\n",
       "    </tr>\n",
       "  </tbody>\n",
       "</table>\n",
       "</div>"
      ],
      "text/plain": [
       "           rank     matches     innings         runs     highest      100s  \\\n",
       "count  10.00000   10.000000   10.000000    10.000000   10.000000  10.00000   \n",
       "mean    5.50000  186.200000  179.000000  5246.700000  112.600000   2.20000   \n",
       "std     3.02765   28.007142   23.958297   604.446496   27.002881   2.20101   \n",
       "min     1.00000  142.000000  141.000000  4217.000000   84.000000   0.00000   \n",
       "25%     3.25000  161.500000  156.500000  4800.750000   94.750000   0.25000   \n",
       "50%     5.50000  193.500000  188.500000  5305.500000  107.500000   1.50000   \n",
       "75%     7.75000  206.500000  197.500000  5590.250000  122.750000   3.75000   \n",
       "max    10.00000  220.000000  208.000000  6283.000000  175.000000   6.00000   \n",
       "\n",
       "             50s  \n",
       "count  10.000000  \n",
       "mean   37.000000  \n",
       "std     8.445906  \n",
       "min    23.000000  \n",
       "25%    32.250000  \n",
       "50%    39.500000  \n",
       "75%    41.500000  \n",
       "max    50.000000  "
      ]
     },
     "execution_count": 21,
     "metadata": {},
     "output_type": "execute_result"
    }
   ],
   "source": [
    "df.describe()"
   ]
  },
  {
   "cell_type": "code",
   "execution_count": 23,
   "id": "b307d3f4-a9b6-4aa7-9b25-c621fef550b8",
   "metadata": {},
   "outputs": [
    {
     "data": {
      "text/plain": [
       "RangeIndex(start=0, stop=10, step=1)"
      ]
     },
     "execution_count": 23,
     "metadata": {},
     "output_type": "execute_result"
    }
   ],
   "source": [
    "df.index"
   ]
  },
  {
   "cell_type": "code",
   "execution_count": 103,
   "id": "6fc275be-be0c-4e76-8709-96d6ba2b29d4",
   "metadata": {},
   "outputs": [],
   "source": [
    "df[\"More_100s\"]=(df[\"100s\"]>=4).astype(\"int\")"
   ]
  },
  {
   "cell_type": "code",
   "execution_count": 107,
   "id": "d0bd6eb8-e85a-4e37-b502-d5083f5afeef",
   "metadata": {},
   "outputs": [],
   "source": [
    "df[\"More_50s\"]=(df[\"50s\"]>=40).astype(\"int\")"
   ]
  },
  {
   "cell_type": "code",
   "execution_count": 109,
   "id": "d95cb0a8-1eca-481e-89ce-0e145564502f",
   "metadata": {},
   "outputs": [],
   "source": [
    "df[\"Best_player\"]=((df[\"100s\"]>=3) & (df[\"50s\"]>=40)).astype(\"int\")"
   ]
  },
  {
   "cell_type": "code",
   "execution_count": 111,
   "id": "565dd87a-4e0d-4395-902e-4b63132ac0f7",
   "metadata": {},
   "outputs": [],
   "source": [
    "df[\"top_players\"]=np.where((df[\"100s\"]>=3) & (df[\"50s\"]>=40),1,0)"
   ]
  },
  {
   "cell_type": "code",
   "execution_count": 115,
   "id": "53501ab5-96a8-494a-b35a-242d47ab1ac6",
   "metadata": {},
   "outputs": [
    {
     "data": {
      "text/html": [
       "<div>\n",
       "<style scoped>\n",
       "    .dataframe tbody tr th:only-of-type {\n",
       "        vertical-align: middle;\n",
       "    }\n",
       "\n",
       "    .dataframe tbody tr th {\n",
       "        vertical-align: top;\n",
       "    }\n",
       "\n",
       "    .dataframe thead th {\n",
       "        text-align: right;\n",
       "    }\n",
       "</style>\n",
       "<table border=\"1\" class=\"dataframe\">\n",
       "  <thead>\n",
       "    <tr style=\"text-align: right;\">\n",
       "      <th></th>\n",
       "      <th>rank</th>\n",
       "      <th>name</th>\n",
       "      <th>matches</th>\n",
       "      <th>innings</th>\n",
       "      <th>runs</th>\n",
       "      <th>highest</th>\n",
       "      <th>100s</th>\n",
       "      <th>50s</th>\n",
       "      <th>More_100s</th>\n",
       "      <th>More_50s</th>\n",
       "      <th>Best_player</th>\n",
       "      <th>top_players</th>\n",
       "    </tr>\n",
       "  </thead>\n",
       "  <tbody>\n",
       "    <tr>\n",
       "      <th>0</th>\n",
       "      <td>1</td>\n",
       "      <td>V Kohli</td>\n",
       "      <td>207</td>\n",
       "      <td>199</td>\n",
       "      <td>6283</td>\n",
       "      <td>113</td>\n",
       "      <td>5</td>\n",
       "      <td>42</td>\n",
       "      <td>1</td>\n",
       "      <td>1</td>\n",
       "      <td>1</td>\n",
       "      <td>1</td>\n",
       "    </tr>\n",
       "    <tr>\n",
       "      <th>1</th>\n",
       "      <td>2</td>\n",
       "      <td>S Dhawan</td>\n",
       "      <td>194</td>\n",
       "      <td>191</td>\n",
       "      <td>5784</td>\n",
       "      <td>106</td>\n",
       "      <td>2</td>\n",
       "      <td>44</td>\n",
       "      <td>0</td>\n",
       "      <td>1</td>\n",
       "      <td>0</td>\n",
       "      <td>0</td>\n",
       "    </tr>\n",
       "    <tr>\n",
       "      <th>2</th>\n",
       "      <td>3</td>\n",
       "      <td>Rohit Sharma</td>\n",
       "      <td>213</td>\n",
       "      <td>208</td>\n",
       "      <td>5611</td>\n",
       "      <td>109</td>\n",
       "      <td>1</td>\n",
       "      <td>40</td>\n",
       "      <td>0</td>\n",
       "      <td>1</td>\n",
       "      <td>0</td>\n",
       "      <td>0</td>\n",
       "    </tr>\n",
       "    <tr>\n",
       "      <th>3</th>\n",
       "      <td>4</td>\n",
       "      <td>Suresh Raina</td>\n",
       "      <td>205</td>\n",
       "      <td>200</td>\n",
       "      <td>5528</td>\n",
       "      <td>100</td>\n",
       "      <td>1</td>\n",
       "      <td>39</td>\n",
       "      <td>0</td>\n",
       "      <td>0</td>\n",
       "      <td>0</td>\n",
       "      <td>0</td>\n",
       "    </tr>\n",
       "    <tr>\n",
       "      <th>4</th>\n",
       "      <td>5</td>\n",
       "      <td>David Warner</td>\n",
       "      <td>150</td>\n",
       "      <td>150</td>\n",
       "      <td>5449</td>\n",
       "      <td>126</td>\n",
       "      <td>4</td>\n",
       "      <td>50</td>\n",
       "      <td>1</td>\n",
       "      <td>1</td>\n",
       "      <td>1</td>\n",
       "      <td>1</td>\n",
       "    </tr>\n",
       "  </tbody>\n",
       "</table>\n",
       "</div>"
      ],
      "text/plain": [
       "   rank          name  matches  innings  runs  highest  100s  50s  More_100s  \\\n",
       "0     1       V Kohli      207      199  6283      113     5   42          1   \n",
       "1     2      S Dhawan      194      191  5784      106     2   44          0   \n",
       "2     3  Rohit Sharma      213      208  5611      109     1   40          0   \n",
       "3     4  Suresh Raina      205      200  5528      100     1   39          0   \n",
       "4     5  David Warner      150      150  5449      126     4   50          1   \n",
       "\n",
       "   More_50s  Best_player  top_players  \n",
       "0         1            1            1  \n",
       "1         1            0            0  \n",
       "2         1            0            0  \n",
       "3         0            0            0  \n",
       "4         1            1            1  "
      ]
     },
     "execution_count": 115,
     "metadata": {},
     "output_type": "execute_result"
    }
   ],
   "source": [
    "df.head()"
   ]
  },
  {
   "cell_type": "code",
   "execution_count": 29,
   "id": "1647535e-de68-4769-94b7-f5ea1ff04281",
   "metadata": {},
   "outputs": [
    {
     "data": {
      "text/html": [
       "<div>\n",
       "<style scoped>\n",
       "    .dataframe tbody tr th:only-of-type {\n",
       "        vertical-align: middle;\n",
       "    }\n",
       "\n",
       "    .dataframe tbody tr th {\n",
       "        vertical-align: top;\n",
       "    }\n",
       "\n",
       "    .dataframe thead th {\n",
       "        text-align: right;\n",
       "    }\n",
       "</style>\n",
       "<table border=\"1\" class=\"dataframe\">\n",
       "  <thead>\n",
       "    <tr style=\"text-align: right;\">\n",
       "      <th></th>\n",
       "      <th>PassengerId</th>\n",
       "      <th>Survived</th>\n",
       "      <th>Pclass</th>\n",
       "      <th>Name</th>\n",
       "      <th>Sex</th>\n",
       "      <th>Age</th>\n",
       "      <th>SibSp</th>\n",
       "      <th>Parch</th>\n",
       "      <th>Ticket</th>\n",
       "      <th>Fare</th>\n",
       "      <th>Cabin</th>\n",
       "      <th>Embarked</th>\n",
       "    </tr>\n",
       "  </thead>\n",
       "  <tbody>\n",
       "    <tr>\n",
       "      <th>0</th>\n",
       "      <td>1</td>\n",
       "      <td>0</td>\n",
       "      <td>3</td>\n",
       "      <td>Braund, Mr. Owen Harris</td>\n",
       "      <td>male</td>\n",
       "      <td>22.0</td>\n",
       "      <td>1</td>\n",
       "      <td>0</td>\n",
       "      <td>A/5 21171</td>\n",
       "      <td>7.2500</td>\n",
       "      <td>NaN</td>\n",
       "      <td>S</td>\n",
       "    </tr>\n",
       "    <tr>\n",
       "      <th>1</th>\n",
       "      <td>2</td>\n",
       "      <td>1</td>\n",
       "      <td>1</td>\n",
       "      <td>Cumings, Mrs. John Bradley (Florence Briggs Th...</td>\n",
       "      <td>female</td>\n",
       "      <td>38.0</td>\n",
       "      <td>1</td>\n",
       "      <td>0</td>\n",
       "      <td>PC 17599</td>\n",
       "      <td>71.2833</td>\n",
       "      <td>C85</td>\n",
       "      <td>C</td>\n",
       "    </tr>\n",
       "    <tr>\n",
       "      <th>2</th>\n",
       "      <td>3</td>\n",
       "      <td>1</td>\n",
       "      <td>3</td>\n",
       "      <td>Heikkinen, Miss. Laina</td>\n",
       "      <td>female</td>\n",
       "      <td>26.0</td>\n",
       "      <td>0</td>\n",
       "      <td>0</td>\n",
       "      <td>STON/O2. 3101282</td>\n",
       "      <td>7.9250</td>\n",
       "      <td>NaN</td>\n",
       "      <td>S</td>\n",
       "    </tr>\n",
       "    <tr>\n",
       "      <th>3</th>\n",
       "      <td>4</td>\n",
       "      <td>1</td>\n",
       "      <td>1</td>\n",
       "      <td>Futrelle, Mrs. Jacques Heath (Lily May Peel)</td>\n",
       "      <td>female</td>\n",
       "      <td>35.0</td>\n",
       "      <td>1</td>\n",
       "      <td>0</td>\n",
       "      <td>113803</td>\n",
       "      <td>53.1000</td>\n",
       "      <td>C123</td>\n",
       "      <td>S</td>\n",
       "    </tr>\n",
       "    <tr>\n",
       "      <th>4</th>\n",
       "      <td>5</td>\n",
       "      <td>0</td>\n",
       "      <td>3</td>\n",
       "      <td>Allen, Mr. William Henry</td>\n",
       "      <td>male</td>\n",
       "      <td>35.0</td>\n",
       "      <td>0</td>\n",
       "      <td>0</td>\n",
       "      <td>373450</td>\n",
       "      <td>8.0500</td>\n",
       "      <td>NaN</td>\n",
       "      <td>S</td>\n",
       "    </tr>\n",
       "  </tbody>\n",
       "</table>\n",
       "</div>"
      ],
      "text/plain": [
       "   PassengerId  Survived  Pclass  \\\n",
       "0            1         0       3   \n",
       "1            2         1       1   \n",
       "2            3         1       3   \n",
       "3            4         1       1   \n",
       "4            5         0       3   \n",
       "\n",
       "                                                Name     Sex   Age  SibSp  \\\n",
       "0                            Braund, Mr. Owen Harris    male  22.0      1   \n",
       "1  Cumings, Mrs. John Bradley (Florence Briggs Th...  female  38.0      1   \n",
       "2                             Heikkinen, Miss. Laina  female  26.0      0   \n",
       "3       Futrelle, Mrs. Jacques Heath (Lily May Peel)  female  35.0      1   \n",
       "4                           Allen, Mr. William Henry    male  35.0      0   \n",
       "\n",
       "   Parch            Ticket     Fare Cabin Embarked  \n",
       "0      0         A/5 21171   7.2500   NaN        S  \n",
       "1      0          PC 17599  71.2833   C85        C  \n",
       "2      0  STON/O2. 3101282   7.9250   NaN        S  \n",
       "3      0            113803  53.1000  C123        S  \n",
       "4      0            373450   8.0500   NaN        S  "
      ]
     },
     "execution_count": 29,
     "metadata": {},
     "output_type": "execute_result"
    }
   ],
   "source": [
    "titanic=pd.read_csv(\"titanic.csv\")\n",
    "titanic.head()"
   ]
  },
  {
   "cell_type": "code",
   "execution_count": 31,
   "id": "f9712382-2f94-4f01-818b-260aa2463e21",
   "metadata": {},
   "outputs": [],
   "source": [
    "#fillna()#mean,mode\n",
    "#ffill()\n",
    "#bfill()"
   ]
  },
  {
   "cell_type": "code",
   "execution_count": 33,
   "id": "729fd2c4-b92e-41d7-b545-eae8a9928710",
   "metadata": {},
   "outputs": [
    {
     "data": {
      "text/plain": [
       "29.69911764705882"
      ]
     },
     "execution_count": 33,
     "metadata": {},
     "output_type": "execute_result"
    }
   ],
   "source": [
    "titanic[\"Age\"].mean()"
   ]
  },
  {
   "cell_type": "code",
   "execution_count": 37,
   "id": "691624f7-9f88-4b57-a361-ba8bb28b4704",
   "metadata": {},
   "outputs": [],
   "source": [
    "#titanic[\"Age\"].fillna(titanic[\"Age\"].mean(),inplace=True)"
   ]
  },
  {
   "cell_type": "code",
   "execution_count": 39,
   "id": "fa77488c-941b-444c-9d6e-f701f16606ba",
   "metadata": {},
   "outputs": [
    {
     "data": {
      "text/plain": [
       "array([nan, 'C85', 'C123', 'E46', 'G6', 'C103', 'D56', 'A6',\n",
       "       'C23 C25 C27', 'B78', 'D33', 'B30', 'C52', 'B28', 'C83', 'F33',\n",
       "       'F G73', 'E31', 'A5', 'D10 D12', 'D26', 'C110', 'B58 B60', 'E101',\n",
       "       'F E69', 'D47', 'B86', 'F2', 'C2', 'E33', 'B19', 'A7', 'C49', 'F4',\n",
       "       'A32', 'B4', 'B80', 'A31', 'D36', 'D15', 'C93', 'C78', 'D35',\n",
       "       'C87', 'B77', 'E67', 'B94', 'C125', 'C99', 'C118', 'D7', 'A19',\n",
       "       'B49', 'D', 'C22 C26', 'C106', 'C65', 'E36', 'C54',\n",
       "       'B57 B59 B63 B66', 'C7', 'E34', 'C32', 'B18', 'C124', 'C91', 'E40',\n",
       "       'T', 'C128', 'D37', 'B35', 'E50', 'C82', 'B96 B98', 'E10', 'E44',\n",
       "       'A34', 'C104', 'C111', 'C92', 'E38', 'D21', 'E12', 'E63', 'A14',\n",
       "       'B37', 'C30', 'D20', 'B79', 'E25', 'D46', 'B73', 'C95', 'B38',\n",
       "       'B39', 'B22', 'C86', 'C70', 'A16', 'C101', 'C68', 'A10', 'E68',\n",
       "       'B41', 'A20', 'D19', 'D50', 'D9', 'A23', 'B50', 'A26', 'D48',\n",
       "       'E58', 'C126', 'B71', 'B51 B53 B55', 'D49', 'B5', 'B20', 'F G63',\n",
       "       'C62 C64', 'E24', 'C90', 'C45', 'E8', 'B101', 'D45', 'C46', 'D30',\n",
       "       'E121', 'D11', 'E77', 'F38', 'B3', 'D6', 'B82 B84', 'D17', 'A36',\n",
       "       'B102', 'B69', 'E49', 'C47', 'D28', 'E17', 'A24', 'C50', 'B42',\n",
       "       'C148'], dtype=object)"
      ]
     },
     "execution_count": 39,
     "metadata": {},
     "output_type": "execute_result"
    }
   ],
   "source": [
    "titanic[\"Cabin\"].unique()"
   ]
  },
  {
   "cell_type": "code",
   "execution_count": 41,
   "id": "35559ccb-076f-4a96-908f-86b3f72664c0",
   "metadata": {},
   "outputs": [],
   "source": [
    "#titanic[\"Cabin\"].fillna(titanic[\"Cabin\"].mode()[0],inplace=True)"
   ]
  },
  {
   "cell_type": "code",
   "execution_count": 43,
   "id": "aba71117-0537-43c8-9418-8bbad321818c",
   "metadata": {},
   "outputs": [
    {
     "data": {
      "text/plain": [
       "687"
      ]
     },
     "execution_count": 43,
     "metadata": {},
     "output_type": "execute_result"
    }
   ],
   "source": [
    "titanic[\"Cabin\"].isnull().sum()"
   ]
  },
  {
   "cell_type": "code",
   "execution_count": 45,
   "id": "567bba32-47bc-439d-b37f-aff817045dd2",
   "metadata": {},
   "outputs": [],
   "source": [
    "titanic[\"Cabin\"]=titanic[\"Cabin\"].ffill().inplace=True"
   ]
  },
  {
   "cell_type": "code",
   "execution_count": 47,
   "id": "0bbf2ea0-c0d0-423f-8c54-9425ff4325be",
   "metadata": {},
   "outputs": [
    {
     "data": {
      "text/plain": [
       "array(['S', 'C', 'Q', nan], dtype=object)"
      ]
     },
     "execution_count": 47,
     "metadata": {},
     "output_type": "execute_result"
    }
   ],
   "source": [
    "titanic[\"Embarked\"].unique()"
   ]
  },
  {
   "cell_type": "code",
   "execution_count": 49,
   "id": "757f88d3-c5e9-47b0-b07e-3b7df096e2cd",
   "metadata": {},
   "outputs": [
    {
     "data": {
      "text/html": [
       "<div>\n",
       "<style scoped>\n",
       "    .dataframe tbody tr th:only-of-type {\n",
       "        vertical-align: middle;\n",
       "    }\n",
       "\n",
       "    .dataframe tbody tr th {\n",
       "        vertical-align: top;\n",
       "    }\n",
       "\n",
       "    .dataframe thead th {\n",
       "        text-align: right;\n",
       "    }\n",
       "</style>\n",
       "<table border=\"1\" class=\"dataframe\">\n",
       "  <thead>\n",
       "    <tr style=\"text-align: right;\">\n",
       "      <th></th>\n",
       "      <th>PassengerId</th>\n",
       "      <th>Survived</th>\n",
       "      <th>Pclass</th>\n",
       "      <th>Name</th>\n",
       "      <th>Sex</th>\n",
       "      <th>Age</th>\n",
       "      <th>SibSp</th>\n",
       "    </tr>\n",
       "  </thead>\n",
       "  <tbody>\n",
       "    <tr>\n",
       "      <th>10</th>\n",
       "      <td>11</td>\n",
       "      <td>1</td>\n",
       "      <td>3</td>\n",
       "      <td>Sandstrom, Miss. Marguerite Rut</td>\n",
       "      <td>female</td>\n",
       "      <td>4.0</td>\n",
       "      <td>1</td>\n",
       "    </tr>\n",
       "    <tr>\n",
       "      <th>11</th>\n",
       "      <td>12</td>\n",
       "      <td>1</td>\n",
       "      <td>1</td>\n",
       "      <td>Bonnell, Miss. Elizabeth</td>\n",
       "      <td>female</td>\n",
       "      <td>58.0</td>\n",
       "      <td>0</td>\n",
       "    </tr>\n",
       "    <tr>\n",
       "      <th>12</th>\n",
       "      <td>13</td>\n",
       "      <td>0</td>\n",
       "      <td>3</td>\n",
       "      <td>Saundercock, Mr. William Henry</td>\n",
       "      <td>male</td>\n",
       "      <td>20.0</td>\n",
       "      <td>0</td>\n",
       "    </tr>\n",
       "    <tr>\n",
       "      <th>13</th>\n",
       "      <td>14</td>\n",
       "      <td>0</td>\n",
       "      <td>3</td>\n",
       "      <td>Andersson, Mr. Anders Johan</td>\n",
       "      <td>male</td>\n",
       "      <td>39.0</td>\n",
       "      <td>1</td>\n",
       "    </tr>\n",
       "    <tr>\n",
       "      <th>14</th>\n",
       "      <td>15</td>\n",
       "      <td>0</td>\n",
       "      <td>3</td>\n",
       "      <td>Vestrom, Miss. Hulda Amanda Adolfina</td>\n",
       "      <td>female</td>\n",
       "      <td>14.0</td>\n",
       "      <td>0</td>\n",
       "    </tr>\n",
       "    <tr>\n",
       "      <th>15</th>\n",
       "      <td>16</td>\n",
       "      <td>1</td>\n",
       "      <td>2</td>\n",
       "      <td>Hewlett, Mrs. (Mary D Kingcome)</td>\n",
       "      <td>female</td>\n",
       "      <td>55.0</td>\n",
       "      <td>0</td>\n",
       "    </tr>\n",
       "    <tr>\n",
       "      <th>16</th>\n",
       "      <td>17</td>\n",
       "      <td>0</td>\n",
       "      <td>3</td>\n",
       "      <td>Rice, Master. Eugene</td>\n",
       "      <td>male</td>\n",
       "      <td>2.0</td>\n",
       "      <td>4</td>\n",
       "    </tr>\n",
       "  </tbody>\n",
       "</table>\n",
       "</div>"
      ],
      "text/plain": [
       "    PassengerId  Survived  Pclass                                  Name  \\\n",
       "10           11         1       3       Sandstrom, Miss. Marguerite Rut   \n",
       "11           12         1       1              Bonnell, Miss. Elizabeth   \n",
       "12           13         0       3        Saundercock, Mr. William Henry   \n",
       "13           14         0       3           Andersson, Mr. Anders Johan   \n",
       "14           15         0       3  Vestrom, Miss. Hulda Amanda Adolfina   \n",
       "15           16         1       2      Hewlett, Mrs. (Mary D Kingcome)    \n",
       "16           17         0       3                  Rice, Master. Eugene   \n",
       "\n",
       "       Sex   Age  SibSp  \n",
       "10  female   4.0      1  \n",
       "11  female  58.0      0  \n",
       "12    male  20.0      0  \n",
       "13    male  39.0      1  \n",
       "14  female  14.0      0  \n",
       "15  female  55.0      0  \n",
       "16    male   2.0      4  "
      ]
     },
     "execution_count": 49,
     "metadata": {},
     "output_type": "execute_result"
    }
   ],
   "source": [
    "titanic.iloc[10:17,0:7]"
   ]
  },
  {
   "cell_type": "code",
   "execution_count": 57,
   "id": "7415328f-49ac-4904-911b-bd0d8b33363b",
   "metadata": {},
   "outputs": [
    {
     "data": {
      "text/html": [
       "<div>\n",
       "<style scoped>\n",
       "    .dataframe tbody tr th:only-of-type {\n",
       "        vertical-align: middle;\n",
       "    }\n",
       "\n",
       "    .dataframe tbody tr th {\n",
       "        vertical-align: top;\n",
       "    }\n",
       "\n",
       "    .dataframe thead th {\n",
       "        text-align: right;\n",
       "    }\n",
       "</style>\n",
       "<table border=\"1\" class=\"dataframe\">\n",
       "  <thead>\n",
       "    <tr style=\"text-align: right;\">\n",
       "      <th></th>\n",
       "      <th>PassengerId</th>\n",
       "      <th>Survived</th>\n",
       "      <th>Pclass</th>\n",
       "      <th>Name</th>\n",
       "      <th>Sex</th>\n",
       "      <th>Age</th>\n",
       "      <th>SibSp</th>\n",
       "      <th>Parch</th>\n",
       "      <th>Ticket</th>\n",
       "      <th>Fare</th>\n",
       "      <th>Cabin</th>\n",
       "      <th>Embarked</th>\n",
       "    </tr>\n",
       "  </thead>\n",
       "  <tbody>\n",
       "    <tr>\n",
       "      <th>8</th>\n",
       "      <td>9</td>\n",
       "      <td>1</td>\n",
       "      <td>3</td>\n",
       "      <td>Johnson, Mrs. Oscar W (Elisabeth Vilhelmina Berg)</td>\n",
       "      <td>female</td>\n",
       "      <td>27.0</td>\n",
       "      <td>0</td>\n",
       "      <td>2</td>\n",
       "      <td>347742</td>\n",
       "      <td>11.1333</td>\n",
       "      <td>True</td>\n",
       "      <td>S</td>\n",
       "    </tr>\n",
       "    <tr>\n",
       "      <th>9</th>\n",
       "      <td>10</td>\n",
       "      <td>1</td>\n",
       "      <td>2</td>\n",
       "      <td>Nasser, Mrs. Nicholas (Adele Achem)</td>\n",
       "      <td>female</td>\n",
       "      <td>14.0</td>\n",
       "      <td>1</td>\n",
       "      <td>0</td>\n",
       "      <td>237736</td>\n",
       "      <td>30.0708</td>\n",
       "      <td>True</td>\n",
       "      <td>C</td>\n",
       "    </tr>\n",
       "    <tr>\n",
       "      <th>10</th>\n",
       "      <td>11</td>\n",
       "      <td>1</td>\n",
       "      <td>3</td>\n",
       "      <td>Sandstrom, Miss. Marguerite Rut</td>\n",
       "      <td>female</td>\n",
       "      <td>4.0</td>\n",
       "      <td>1</td>\n",
       "      <td>1</td>\n",
       "      <td>PP 9549</td>\n",
       "      <td>16.7000</td>\n",
       "      <td>True</td>\n",
       "      <td>S</td>\n",
       "    </tr>\n",
       "  </tbody>\n",
       "</table>\n",
       "</div>"
      ],
      "text/plain": [
       "    PassengerId  Survived  Pclass  \\\n",
       "8             9         1       3   \n",
       "9            10         1       2   \n",
       "10           11         1       3   \n",
       "\n",
       "                                                 Name     Sex   Age  SibSp  \\\n",
       "8   Johnson, Mrs. Oscar W (Elisabeth Vilhelmina Berg)  female  27.0      0   \n",
       "9                 Nasser, Mrs. Nicholas (Adele Achem)  female  14.0      1   \n",
       "10                    Sandstrom, Miss. Marguerite Rut  female   4.0      1   \n",
       "\n",
       "    Parch   Ticket     Fare  Cabin Embarked  \n",
       "8       2   347742  11.1333   True        S  \n",
       "9       0   237736  30.0708   True        C  \n",
       "10      1  PP 9549  16.7000   True        S  "
      ]
     },
     "execution_count": 57,
     "metadata": {},
     "output_type": "execute_result"
    }
   ],
   "source": [
    "titanic.loc[8:10]"
   ]
  },
  {
   "cell_type": "code",
   "execution_count": 65,
   "id": "606ae6f8-ea9f-4bd1-8be2-007c28166406",
   "metadata": {},
   "outputs": [
    {
     "data": {
      "text/plain": [
       "Pclass  Name                                             PassengerId  Survived  Sex     Age        SibSp  Parch  Ticket    Fare      Cabin  Embarked\n",
       "1       Allen, Miss. Elisabeth Walton                    731          1         female  29.000000  0      0      24160     211.3375  True   S           1\n",
       "        Allison, Master. Hudson Trevor                   306          1         male    0.920000   1      2      113781    151.5500  True   S           1\n",
       "        Allison, Miss. Helen Loraine                     298          0         female  2.000000   1      2      113781    151.5500  True   S           1\n",
       "        Allison, Mrs. Hudson J C (Bessie Waldo Daniels)  499          0         female  25.000000  1      2      113781    151.5500  True   S           1\n",
       "        Anderson, Mr. Harry                              461          1         male    48.000000  0      0      19952     26.5500   True   S           1\n",
       "                                                                                                                                                       ..\n",
       "3       de Messemaeker, Mrs. Guillaume Joseph (Emma)     560          1         female  36.000000  1      0      345572    17.4000   True   S           1\n",
       "        de Mulder, Mr. Theodore                          287          1         male    30.000000  0      0      345774    9.5000    True   S           1\n",
       "        de Pelsmaeker, Mr. Alfons                        283          0         male    16.000000  0      0      345778    9.5000    True   S           1\n",
       "        van Billiard, Mr. Austin Blyler                  154          0         male    40.500000  0      2      A/5. 851  14.5000   True   S           1\n",
       "        van Melkebeke, Mr. Philemon                      869          0         male    29.699118  0      0      345777    9.5000    True   S           1\n",
       "Name: count, Length: 889, dtype: int64"
      ]
     },
     "execution_count": 65,
     "metadata": {},
     "output_type": "execute_result"
    }
   ],
   "source": [
    "dff2=titanic.groupby([\"Pclass\",\"Name\"]).value_counts()\n",
    "dff2"
   ]
  },
  {
   "cell_type": "code",
   "execution_count": 71,
   "id": "36f48b40-81cc-42ea-839f-d451da121de3",
   "metadata": {},
   "outputs": [
    {
     "data": {
      "text/plain": [
       "{0: [0, 1, 2, 3, 4, 5, 6, 9, 11, 12, 14, 15, 17, 18, 19, 20, 21, 22, 23, 26, 28, 29, 30, 31, 32, 33, 34, 35, 36, 37, 38, 39, 40, 41, 42, 44, 45, 46, 47, 48, 49, 51, 52, 53, 55, 56, 57, 60, 61, 62, 64, 66, 67, 69, 70, 72, 73, 74, 75, 76, 77, 79, 80, 81, 82, 83, 84, 85, 87, 89, 90, 91, 92, 94, 95, 96, 99, 100, 101, 103, 104, 105, 106, 107, 108, 109, 110, 111, 112, 113, 114, 115, 116, 117, 120, 121, 122, 123, 125, 126, ...], 1: [7, 10, 16, 24, 50, 54, 65, 97, 98, 102, 118, 124, 128, 145, 155, 160, 164, 166, 171, 172, 175, 176, 183, 188, 193, 197, 205, 229, 248, 251, 259, 262, 266, 268, 272, 273, 278, 279, 299, 312, 314, 319, 323, 328, 329, 332, 340, 348, 352, 356, 362, 374, 407, 409, 416, 423, 424, 440, 446, 448, 469, 479, 485, 489, 523, 529, 530, 532, 548, 549, 558, 580, 581, 587, 595, 600, 616, 618, 622, 637, 644, 651, 657, 670, 679, 684, 686, 689, 691, 698, 702, 709, 720, 745, 746, 750, 751, 755, 779, 787, ...], 2: [8, 27, 43, 58, 59, 63, 68, 71, 78, 88, 93, 119, 136, 140, 147, 148, 153, 159, 165, 180, 182, 184, 201, 233, 237, 247, 254, 255, 261, 297, 305, 311, 318, 324, 341, 377, 381, 386, 390, 394, 417, 419, 435, 436, 445, 450, 472, 480, 498, 506, 533, 535, 539, 540, 541, 542, 550, 585, 593, 608, 615, 634, 642, 659, 683, 685, 742, 754, 763, 783, 788, 792, 802, 813, 819, 827, 846, 850, 863, 888], 3: [86, 437, 736, 774, 858], 4: [167, 360, 438, 567], 5: [13, 25, 610, 638, 885], 6: [678]}"
      ]
     },
     "execution_count": 71,
     "metadata": {},
     "output_type": "execute_result"
    }
   ],
   "source": [
    "dff3=titanic.groupby([\"Parch\"]).groups\n",
    "dff3\n"
   ]
  },
  {
   "cell_type": "code",
   "execution_count": 73,
   "id": "c598e753-8679-4ff8-8d17-0b2f5f86d6e7",
   "metadata": {},
   "outputs": [
    {
     "data": {
      "text/plain": [
       "<pandas.core.groupby.generic.DataFrameGroupBy object at 0x0000023B9C783680>"
      ]
     },
     "execution_count": 73,
     "metadata": {},
     "output_type": "execute_result"
    }
   ],
   "source": [
    "dff4=titanic.groupby([\"Parch\"])\n",
    "dff4"
   ]
  },
  {
   "cell_type": "code",
   "execution_count": 77,
   "id": "a3611cab-9e04-4d60-a47f-08289d3e7782",
   "metadata": {},
   "outputs": [
    {
     "name": "stderr",
     "output_type": "stream",
     "text": [
      "C:\\Users\\DELL\\AppData\\Local\\Temp\\ipykernel_17344\\2791179247.py:1: FutureWarning: When grouping with a length-1 list-like, you will need to pass a length-1 tuple to get_group in a future version of pandas. Pass `(name,)` instead of `name` to silence this warning.\n",
      "  dff4.get_group(\" Allison, Miss. Helen Loraine\")\n"
     ]
    },
    {
     "ename": "KeyError",
     "evalue": "' Allison, Miss. Helen Loraine'",
     "output_type": "error",
     "traceback": [
      "\u001b[1;31m---------------------------------------------------------------------------\u001b[0m",
      "\u001b[1;31mKeyError\u001b[0m                                  Traceback (most recent call last)",
      "Cell \u001b[1;32mIn[77], line 1\u001b[0m\n\u001b[1;32m----> 1\u001b[0m dff4\u001b[38;5;241m.\u001b[39mget_group(\u001b[38;5;124m\"\u001b[39m\u001b[38;5;124m Allison, Miss. Helen Loraine\u001b[39m\u001b[38;5;124m\"\u001b[39m)\n",
      "File \u001b[1;32mC:\\ProgramData\\anaconda3\\Lib\\site-packages\\pandas\\core\\groupby\\groupby.py:1114\u001b[0m, in \u001b[0;36mBaseGroupBy.get_group\u001b[1;34m(self, name, obj)\u001b[0m\n\u001b[0;32m   1112\u001b[0m inds \u001b[38;5;241m=\u001b[39m \u001b[38;5;28mself\u001b[39m\u001b[38;5;241m.\u001b[39m_get_index(name)\n\u001b[0;32m   1113\u001b[0m \u001b[38;5;28;01mif\u001b[39;00m \u001b[38;5;129;01mnot\u001b[39;00m \u001b[38;5;28mlen\u001b[39m(inds):\n\u001b[1;32m-> 1114\u001b[0m     \u001b[38;5;28;01mraise\u001b[39;00m \u001b[38;5;167;01mKeyError\u001b[39;00m(name)\n\u001b[0;32m   1116\u001b[0m \u001b[38;5;28;01mif\u001b[39;00m obj \u001b[38;5;129;01mis\u001b[39;00m \u001b[38;5;28;01mNone\u001b[39;00m:\n\u001b[0;32m   1117\u001b[0m     indexer \u001b[38;5;241m=\u001b[39m inds \u001b[38;5;28;01mif\u001b[39;00m \u001b[38;5;28mself\u001b[39m\u001b[38;5;241m.\u001b[39maxis \u001b[38;5;241m==\u001b[39m \u001b[38;5;241m0\u001b[39m \u001b[38;5;28;01melse\u001b[39;00m (\u001b[38;5;28mslice\u001b[39m(\u001b[38;5;28;01mNone\u001b[39;00m), inds)\n",
      "\u001b[1;31mKeyError\u001b[0m: ' Allison, Miss. Helen Loraine'"
     ]
    }
   ],
   "source": [
    "dff4.get_group(\" Allison, Miss. Helen Loraine\")"
   ]
  },
  {
   "cell_type": "code",
   "execution_count": 79,
   "id": "9861f22a-21fe-42e8-aa94-8124451335e3",
   "metadata": {},
   "outputs": [
    {
     "data": {
      "text/html": [
       "<div>\n",
       "<style scoped>\n",
       "    .dataframe tbody tr th:only-of-type {\n",
       "        vertical-align: middle;\n",
       "    }\n",
       "\n",
       "    .dataframe tbody tr th {\n",
       "        vertical-align: top;\n",
       "    }\n",
       "\n",
       "    .dataframe thead th {\n",
       "        text-align: right;\n",
       "    }\n",
       "</style>\n",
       "<table border=\"1\" class=\"dataframe\">\n",
       "  <thead>\n",
       "    <tr style=\"text-align: right;\">\n",
       "      <th></th>\n",
       "      <th>PassengerId</th>\n",
       "      <th>Survived</th>\n",
       "      <th>Pclass</th>\n",
       "      <th>Name</th>\n",
       "      <th>Sex</th>\n",
       "      <th>Age</th>\n",
       "      <th>SibSp</th>\n",
       "      <th>Ticket</th>\n",
       "      <th>Fare</th>\n",
       "      <th>Cabin</th>\n",
       "      <th>Embarked</th>\n",
       "    </tr>\n",
       "    <tr>\n",
       "      <th>Parch</th>\n",
       "      <th></th>\n",
       "      <th></th>\n",
       "      <th></th>\n",
       "      <th></th>\n",
       "      <th></th>\n",
       "      <th></th>\n",
       "      <th></th>\n",
       "      <th></th>\n",
       "      <th></th>\n",
       "      <th></th>\n",
       "      <th></th>\n",
       "    </tr>\n",
       "  </thead>\n",
       "  <tbody>\n",
       "    <tr>\n",
       "      <th>0</th>\n",
       "      <td>891</td>\n",
       "      <td>0</td>\n",
       "      <td>3</td>\n",
       "      <td>Dooley, Mr. Patrick</td>\n",
       "      <td>male</td>\n",
       "      <td>32.000000</td>\n",
       "      <td>0</td>\n",
       "      <td>370376</td>\n",
       "      <td>7.7500</td>\n",
       "      <td>True</td>\n",
       "      <td>Q</td>\n",
       "    </tr>\n",
       "    <tr>\n",
       "      <th>1</th>\n",
       "      <td>881</td>\n",
       "      <td>1</td>\n",
       "      <td>2</td>\n",
       "      <td>Shelley, Mrs. William (Imanita Parrish Hall)</td>\n",
       "      <td>female</td>\n",
       "      <td>25.000000</td>\n",
       "      <td>0</td>\n",
       "      <td>230433</td>\n",
       "      <td>26.0000</td>\n",
       "      <td>True</td>\n",
       "      <td>S</td>\n",
       "    </tr>\n",
       "    <tr>\n",
       "      <th>2</th>\n",
       "      <td>889</td>\n",
       "      <td>0</td>\n",
       "      <td>3</td>\n",
       "      <td>Johnston, Miss. Catherine Helen \"Carrie\"</td>\n",
       "      <td>female</td>\n",
       "      <td>29.699118</td>\n",
       "      <td>1</td>\n",
       "      <td>W./C. 6607</td>\n",
       "      <td>23.4500</td>\n",
       "      <td>True</td>\n",
       "      <td>S</td>\n",
       "    </tr>\n",
       "    <tr>\n",
       "      <th>3</th>\n",
       "      <td>859</td>\n",
       "      <td>1</td>\n",
       "      <td>3</td>\n",
       "      <td>Baclini, Mrs. Solomon (Latifa Qurban)</td>\n",
       "      <td>female</td>\n",
       "      <td>24.000000</td>\n",
       "      <td>0</td>\n",
       "      <td>2666</td>\n",
       "      <td>19.2583</td>\n",
       "      <td>True</td>\n",
       "      <td>C</td>\n",
       "    </tr>\n",
       "    <tr>\n",
       "      <th>4</th>\n",
       "      <td>568</td>\n",
       "      <td>0</td>\n",
       "      <td>3</td>\n",
       "      <td>Palsson, Mrs. Nils (Alma Cornelia Berglund)</td>\n",
       "      <td>female</td>\n",
       "      <td>29.000000</td>\n",
       "      <td>0</td>\n",
       "      <td>349909</td>\n",
       "      <td>21.0750</td>\n",
       "      <td>True</td>\n",
       "      <td>S</td>\n",
       "    </tr>\n",
       "    <tr>\n",
       "      <th>5</th>\n",
       "      <td>886</td>\n",
       "      <td>0</td>\n",
       "      <td>3</td>\n",
       "      <td>Rice, Mrs. William (Margaret Norton)</td>\n",
       "      <td>female</td>\n",
       "      <td>39.000000</td>\n",
       "      <td>0</td>\n",
       "      <td>382652</td>\n",
       "      <td>29.1250</td>\n",
       "      <td>True</td>\n",
       "      <td>Q</td>\n",
       "    </tr>\n",
       "    <tr>\n",
       "      <th>6</th>\n",
       "      <td>679</td>\n",
       "      <td>0</td>\n",
       "      <td>3</td>\n",
       "      <td>Goodwin, Mrs. Frederick (Augusta Tyler)</td>\n",
       "      <td>female</td>\n",
       "      <td>43.000000</td>\n",
       "      <td>1</td>\n",
       "      <td>CA 2144</td>\n",
       "      <td>46.9000</td>\n",
       "      <td>True</td>\n",
       "      <td>S</td>\n",
       "    </tr>\n",
       "  </tbody>\n",
       "</table>\n",
       "</div>"
      ],
      "text/plain": [
       "       PassengerId  Survived  Pclass  \\\n",
       "Parch                                  \n",
       "0              891         0       3   \n",
       "1              881         1       2   \n",
       "2              889         0       3   \n",
       "3              859         1       3   \n",
       "4              568         0       3   \n",
       "5              886         0       3   \n",
       "6              679         0       3   \n",
       "\n",
       "                                               Name     Sex        Age  SibSp  \\\n",
       "Parch                                                                           \n",
       "0                               Dooley, Mr. Patrick    male  32.000000      0   \n",
       "1      Shelley, Mrs. William (Imanita Parrish Hall)  female  25.000000      0   \n",
       "2          Johnston, Miss. Catherine Helen \"Carrie\"  female  29.699118      1   \n",
       "3             Baclini, Mrs. Solomon (Latifa Qurban)  female  24.000000      0   \n",
       "4       Palsson, Mrs. Nils (Alma Cornelia Berglund)  female  29.000000      0   \n",
       "5              Rice, Mrs. William (Margaret Norton)  female  39.000000      0   \n",
       "6           Goodwin, Mrs. Frederick (Augusta Tyler)  female  43.000000      1   \n",
       "\n",
       "           Ticket     Fare  Cabin Embarked  \n",
       "Parch                                       \n",
       "0          370376   7.7500   True        Q  \n",
       "1          230433  26.0000   True        S  \n",
       "2      W./C. 6607  23.4500   True        S  \n",
       "3            2666  19.2583   True        C  \n",
       "4          349909  21.0750   True        S  \n",
       "5          382652  29.1250   True        Q  \n",
       "6         CA 2144  46.9000   True        S  "
      ]
     },
     "execution_count": 79,
     "metadata": {},
     "output_type": "execute_result"
    }
   ],
   "source": [
    "dff4.last()"
   ]
  },
  {
   "cell_type": "code",
   "execution_count": 85,
   "id": "c0adaf5b-9432-4f8d-82c2-0cbfca0cf031",
   "metadata": {},
   "outputs": [
    {
     "data": {
      "text/plain": [
       "Sex     Cabin  Embarked\n",
       "female  True   C           437.315068\n",
       "               Q           374.138889\n",
       "               S           438.709360\n",
       "male    True   C           451.536842\n",
       "               Q           456.317073\n",
       "               S           454.507937\n",
       "Name: PassengerId, dtype: float64"
      ]
     },
     "execution_count": 85,
     "metadata": {},
     "output_type": "execute_result"
    }
   ],
   "source": [
    "dff5=titanic.groupby([\"Sex\",\"Cabin\",\"Embarked\"])[\"PassengerId\"].mean()\n",
    "dff5"
   ]
  },
  {
   "cell_type": "code",
   "execution_count": 91,
   "id": "e8d84a72-142b-4bc0-b04c-b6147c06968e",
   "metadata": {},
   "outputs": [
    {
     "ename": "NameError",
     "evalue": "name 'dff' is not defined",
     "output_type": "error",
     "traceback": [
      "\u001b[1;31m---------------------------------------------------------------------------\u001b[0m",
      "\u001b[1;31mNameError\u001b[0m                                 Traceback (most recent call last)",
      "Cell \u001b[1;32mIn[91], line 2\u001b[0m\n\u001b[0;32m      1\u001b[0m dff5\u001b[38;5;241m=\u001b[39mtitanic\u001b[38;5;241m.\u001b[39mgroupby([\u001b[38;5;124m\"\u001b[39m\u001b[38;5;124mSex\u001b[39m\u001b[38;5;124m\"\u001b[39m,\u001b[38;5;124m\"\u001b[39m\u001b[38;5;124mCabin\u001b[39m\u001b[38;5;124m\"\u001b[39m,\u001b[38;5;124m\"\u001b[39m\u001b[38;5;124mEmbarked\u001b[39m\u001b[38;5;124m\"\u001b[39m])[\u001b[38;5;124m\"\u001b[39m\u001b[38;5;124mPassengerId\u001b[39m\u001b[38;5;124m\"\u001b[39m]\u001b[38;5;241m.\u001b[39mmedian()\n\u001b[1;32m----> 2\u001b[0m dff\n",
      "\u001b[1;31mNameError\u001b[0m: name 'dff' is not defined"
     ]
    }
   ],
   "source": [
    "dff5=titanic.groupby([\"Sex\",\"Cabin\",\"Embarked\"])[\"PassengerId\"].median()\n",
    "dff"
   ]
  },
  {
   "cell_type": "code",
   "execution_count": 97,
   "id": "d9788f87-fa62-4678-b425-710fd008edf7",
   "metadata": {},
   "outputs": [],
   "source": [
    "\n",
    "titanic[\"PassengerId\"]=titanic[\"PassengerId\"].apply(lambda x:1 if x==\"889\" else 0)"
   ]
  },
  {
   "cell_type": "code",
   "execution_count": null,
   "id": "40ede449-9845-4186-b5b7-9bf45198c582",
   "metadata": {},
   "outputs": [],
   "source": []
  }
 ],
 "metadata": {
  "kernelspec": {
   "display_name": "Python [conda env:base] *",
   "language": "python",
   "name": "conda-base-py"
  },
  "language_info": {
   "codemirror_mode": {
    "name": "ipython",
    "version": 3
   },
   "file_extension": ".py",
   "mimetype": "text/x-python",
   "name": "python",
   "nbconvert_exporter": "python",
   "pygments_lexer": "ipython3",
   "version": "3.12.7"
  }
 },
 "nbformat": 4,
 "nbformat_minor": 5
}
